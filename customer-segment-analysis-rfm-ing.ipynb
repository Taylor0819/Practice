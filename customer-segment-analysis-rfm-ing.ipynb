{
 "cells": [
  {
   "cell_type": "markdown",
   "id": "b610f260",
   "metadata": {
    "papermill": {
     "duration": 0.014206,
     "end_time": "2024-04-27T12:50:26.754375",
     "exception": false,
     "start_time": "2024-04-27T12:50:26.740169",
     "status": "completed"
    },
    "tags": []
   },
   "source": [
    "# Customer Segment Analysis_RFM\n",
    "Dataset from dacon \n",
    "\n",
    "* R(Recency)\n",
    "* F(Frequency)\n",
    "* M(Monetary)"
   ]
  },
  {
   "cell_type": "markdown",
   "id": "9a98f019",
   "metadata": {
    "papermill": {
     "duration": 0.011762,
     "end_time": "2024-04-27T12:50:26.779205",
     "exception": false,
     "start_time": "2024-04-27T12:50:26.767443",
     "status": "completed"
    },
    "tags": []
   },
   "source": [
    "Segment\n",
    "VIP (0.1%)\n",
    "Loyal (1.7%)\n",
    "Potential Loyal (14.7%)\n",
    "Must-Not-Lose (2.9%)\n",
    "Recent New (30.7%)\n",
    "At-Risk (16.8%)\n",
    "Others"
   ]
  },
  {
   "cell_type": "markdown",
   "id": "05d3afe8",
   "metadata": {
    "papermill": {
     "duration": 0.012365,
     "end_time": "2024-04-27T12:50:26.804120",
     "exception": false,
     "start_time": "2024-04-27T12:50:26.791755",
     "status": "completed"
    },
    "tags": []
   },
   "source": [
    "**Table of contents**\n",
    "1. Data Preprocessing\n",
    "1. Data Analysis & Visualizations\n",
    "1. Modeling"
   ]
  },
  {
   "cell_type": "code",
   "execution_count": 1,
   "id": "3a30571a",
   "metadata": {
    "_cell_guid": "b1076dfc-b9ad-4769-8c92-a6c4dae69d19",
    "_uuid": "8f2839f25d086af736a60e9eeb907d3b93b6e0e5",
    "execution": {
     "iopub.execute_input": "2024-04-27T12:50:26.831613Z",
     "iopub.status.busy": "2024-04-27T12:50:26.830677Z",
     "iopub.status.idle": "2024-04-27T12:50:29.869029Z",
     "shell.execute_reply": "2024-04-27T12:50:29.867616Z"
    },
    "papermill": {
     "duration": 3.055938,
     "end_time": "2024-04-27T12:50:29.872360",
     "exception": false,
     "start_time": "2024-04-27T12:50:26.816422",
     "status": "completed"
    },
    "tags": []
   },
   "outputs": [],
   "source": [
    "# import library\n",
    "import pandas as pd\n",
    "import numpy as np\n",
    "import datetime as dt\n",
    "\n",
    "from sklearn.preprocessing import StandardScaler\n",
    "from sklearn.cluster import KMeans\n",
    "\n",
    "import matplotlib.pyplot as plt\n",
    "import seaborn as sns\n",
    "%matplotlib inline\n",
    "\n",
    "from mlxtend.preprocessing import TransactionEncoder\n",
    "from mlxtend.frequent_patterns import apriori, association_rules\n",
    "\n",
    "import warnings\n",
    "warnings.filterwarnings('ignore')"
   ]
  },
  {
   "cell_type": "code",
   "execution_count": 2,
   "id": "b56214ab",
   "metadata": {
    "execution": {
     "iopub.execute_input": "2024-04-27T12:50:29.899692Z",
     "iopub.status.busy": "2024-04-27T12:50:29.899067Z",
     "iopub.status.idle": "2024-04-27T12:50:30.137832Z",
     "shell.execute_reply": "2024-04-27T12:50:30.136298Z"
    },
    "papermill": {
     "duration": 0.256068,
     "end_time": "2024-04-27T12:50:30.140920",
     "exception": false,
     "start_time": "2024-04-27T12:50:29.884852",
     "status": "completed"
    },
    "tags": []
   },
   "outputs": [],
   "source": [
    "# Data load\n",
    "customer = pd.read_csv('/kaggle/input/customer-segment/Customer_info.csv')\n",
    "discount = pd.read_csv('/kaggle/input/customer-segment/Discount_info.csv')\n",
    "marketing = pd.read_csv('/kaggle/input/customer-segment/Marketing_info.csv')\n",
    "onlinesales = pd.read_csv('/kaggle/input/customer-segment/Onlinesales_info.csv')\n",
    "tax = pd.read_csv('/kaggle/input/customer-segment/Tax_info.csv')"
   ]
  },
  {
   "cell_type": "code",
   "execution_count": 3,
   "id": "0a202b97",
   "metadata": {
    "execution": {
     "iopub.execute_input": "2024-04-27T12:50:30.167055Z",
     "iopub.status.busy": "2024-04-27T12:50:30.166644Z",
     "iopub.status.idle": "2024-04-27T12:50:30.219525Z",
     "shell.execute_reply": "2024-04-27T12:50:30.217851Z"
    },
    "papermill": {
     "duration": 0.069654,
     "end_time": "2024-04-27T12:50:30.222781",
     "exception": false,
     "start_time": "2024-04-27T12:50:30.153127",
     "status": "completed"
    },
    "tags": []
   },
   "outputs": [
    {
     "name": "stdout",
     "output_type": "stream",
     "text": [
      "<Customer data>\n",
      "고객ID    0\n",
      "성별      0\n",
      "고객지역    0\n",
      "가입기간    0\n",
      "dtype: int64\n",
      "\n",
      "<Discount data>\n",
      "월         0\n",
      "제품카테고리    0\n",
      "쿠폰코드      0\n",
      "할인율       0\n",
      "dtype: int64\n",
      "\n",
      "<Marketing data>\n",
      "날짜        0\n",
      "오프라인비용    0\n",
      "온라인비용     0\n",
      "dtype: int64\n",
      "\n",
      "<Onlinesales data>\n",
      "고객ID      0\n",
      "거래ID      0\n",
      "거래날짜      0\n",
      "제품ID      0\n",
      "제품카테고리    0\n",
      "수량        0\n",
      "평균금액      0\n",
      "배송료       0\n",
      "쿠폰상태      0\n",
      "dtype: int64\n",
      "\n",
      "<Tax data>\n",
      "제품카테고리    0\n",
      "GST       0\n",
      "dtype: int64\n",
      "\n"
     ]
    }
   ],
   "source": [
    "# Initial Dataset VIEW!\n",
    "print(f\"<Customer data>\\n{customer.isnull().sum()}\\n\")\n",
    "print(f\"<Discount data>\\n{discount.isnull().sum()}\\n\")\n",
    "print(f\"<Marketing data>\\n{marketing.isnull().sum()}\\n\")\n",
    "print(f\"<Onlinesales data>\\n{onlinesales.isnull().sum()}\\n\")\n",
    "print(f\"<Tax data>\\n{tax.isnull().sum()}\\n\")"
   ]
  },
  {
   "cell_type": "code",
   "execution_count": 4,
   "id": "2245e42c",
   "metadata": {
    "execution": {
     "iopub.execute_input": "2024-04-27T12:50:30.250268Z",
     "iopub.status.busy": "2024-04-27T12:50:30.249818Z",
     "iopub.status.idle": "2024-04-27T12:50:30.257229Z",
     "shell.execute_reply": "2024-04-27T12:50:30.255839Z"
    },
    "papermill": {
     "duration": 0.023615,
     "end_time": "2024-04-27T12:50:30.259838",
     "exception": false,
     "start_time": "2024-04-27T12:50:30.236223",
     "status": "completed"
    },
    "tags": []
   },
   "outputs": [
    {
     "name": "stdout",
     "output_type": "stream",
     "text": [
      "(1468, 4)\n",
      "(204, 4)\n",
      "(365, 3)\n",
      "(52924, 9)\n",
      "(20, 2)\n"
     ]
    }
   ],
   "source": [
    "# Data shape\n",
    "print(customer.shape)\n",
    "print(discount.shape)\n",
    "print(marketing.shape)\n",
    "print(onlinesales.shape)\n",
    "print(tax.shape)"
   ]
  },
  {
   "cell_type": "code",
   "execution_count": 5,
   "id": "d58315dd",
   "metadata": {
    "execution": {
     "iopub.execute_input": "2024-04-27T12:50:30.286803Z",
     "iopub.status.busy": "2024-04-27T12:50:30.286348Z",
     "iopub.status.idle": "2024-04-27T12:50:30.294393Z",
     "shell.execute_reply": "2024-04-27T12:50:30.293179Z"
    },
    "papermill": {
     "duration": 0.024474,
     "end_time": "2024-04-27T12:50:30.296817",
     "exception": false,
     "start_time": "2024-04-27T12:50:30.272343",
     "status": "completed"
    },
    "tags": []
   },
   "outputs": [],
   "source": [
    "# Translate korean columns to English\n",
    "customer.columns = [\"Customer_ID\", \"Sex\", \"Location\", \"Membership Duration\"]\n",
    "discount.columns = [\"Month\", \"Category\", \"Coupon_code\", \"Discount(%)\"]\n",
    "marketing.columns = [\"Date\", \"Offline\", \"Online\"]\n",
    "onlinesales.columns = [\"Customer_ID\", \"Transaction_ID\", \"Transaction_date\", \"Product_ID\",\"Category\", \"Qty\", \"Average_price\", \"Delivery_fee\",\"Coupon_status\"]\n",
    "tax.columns = [\"Category\", \"GST\"]"
   ]
  },
  {
   "cell_type": "code",
   "execution_count": 6,
   "id": "c08fc22d",
   "metadata": {
    "execution": {
     "iopub.execute_input": "2024-04-27T12:50:30.323941Z",
     "iopub.status.busy": "2024-04-27T12:50:30.323500Z",
     "iopub.status.idle": "2024-04-27T12:50:30.340388Z",
     "shell.execute_reply": "2024-04-27T12:50:30.339035Z"
    },
    "papermill": {
     "duration": 0.033134,
     "end_time": "2024-04-27T12:50:30.342741",
     "exception": false,
     "start_time": "2024-04-27T12:50:30.309607",
     "status": "completed"
    },
    "tags": []
   },
   "outputs": [
    {
     "data": {
      "text/plain": [
       "array(['Chicago', 'California', 'New York', 'New Jersey', 'Washington DC'],\n",
       "      dtype=object)"
      ]
     },
     "execution_count": 6,
     "metadata": {},
     "output_type": "execute_result"
    }
   ],
   "source": [
    "# Let's check the customer's location\n",
    "customer.Location.unique()"
   ]
  },
  {
   "cell_type": "code",
   "execution_count": 7,
   "id": "24ac6f25",
   "metadata": {
    "execution": {
     "iopub.execute_input": "2024-04-27T12:50:30.370425Z",
     "iopub.status.busy": "2024-04-27T12:50:30.369556Z",
     "iopub.status.idle": "2024-04-27T12:50:30.839768Z",
     "shell.execute_reply": "2024-04-27T12:50:30.838427Z"
    },
    "papermill": {
     "duration": 0.487377,
     "end_time": "2024-04-27T12:50:30.842533",
     "exception": false,
     "start_time": "2024-04-27T12:50:30.355156",
     "status": "completed"
    },
    "tags": []
   },
   "outputs": [
    {
     "data": {
      "text/html": [
       "<div style=\"width:100%;\"><div style=\"position:relative;width:100%;height:0;padding-bottom:60%;\"><span style=\"color:#565656\">Make this Notebook Trusted to load map: File -> Trust Notebook</span><iframe srcdoc=\"&lt;!DOCTYPE html&gt;\n",
       "&lt;html&gt;\n",
       "&lt;head&gt;\n",
       "    \n",
       "    &lt;meta http-equiv=&quot;content-type&quot; content=&quot;text/html; charset=UTF-8&quot; /&gt;\n",
       "    \n",
       "        &lt;script&gt;\n",
       "            L_NO_TOUCH = false;\n",
       "            L_DISABLE_3D = false;\n",
       "        &lt;/script&gt;\n",
       "    \n",
       "    &lt;style&gt;html, body {width: 100%;height: 100%;margin: 0;padding: 0;}&lt;/style&gt;\n",
       "    &lt;style&gt;#map {position:absolute;top:0;bottom:0;right:0;left:0;}&lt;/style&gt;\n",
       "    &lt;script src=&quot;https://cdn.jsdelivr.net/npm/leaflet@1.9.3/dist/leaflet.js&quot;&gt;&lt;/script&gt;\n",
       "    &lt;script src=&quot;https://code.jquery.com/jquery-3.7.1.min.js&quot;&gt;&lt;/script&gt;\n",
       "    &lt;script src=&quot;https://cdn.jsdelivr.net/npm/bootstrap@5.2.2/dist/js/bootstrap.bundle.min.js&quot;&gt;&lt;/script&gt;\n",
       "    &lt;script src=&quot;https://cdnjs.cloudflare.com/ajax/libs/Leaflet.awesome-markers/2.0.2/leaflet.awesome-markers.js&quot;&gt;&lt;/script&gt;\n",
       "    &lt;link rel=&quot;stylesheet&quot; href=&quot;https://cdn.jsdelivr.net/npm/leaflet@1.9.3/dist/leaflet.css&quot;/&gt;\n",
       "    &lt;link rel=&quot;stylesheet&quot; href=&quot;https://cdn.jsdelivr.net/npm/bootstrap@5.2.2/dist/css/bootstrap.min.css&quot;/&gt;\n",
       "    &lt;link rel=&quot;stylesheet&quot; href=&quot;https://netdna.bootstrapcdn.com/bootstrap/3.0.0/css/bootstrap.min.css&quot;/&gt;\n",
       "    &lt;link rel=&quot;stylesheet&quot; href=&quot;https://cdn.jsdelivr.net/npm/@fortawesome/fontawesome-free@6.2.0/css/all.min.css&quot;/&gt;\n",
       "    &lt;link rel=&quot;stylesheet&quot; href=&quot;https://cdnjs.cloudflare.com/ajax/libs/Leaflet.awesome-markers/2.0.2/leaflet.awesome-markers.css&quot;/&gt;\n",
       "    &lt;link rel=&quot;stylesheet&quot; href=&quot;https://cdn.jsdelivr.net/gh/python-visualization/folium/folium/templates/leaflet.awesome.rotate.min.css&quot;/&gt;\n",
       "    \n",
       "            &lt;meta name=&quot;viewport&quot; content=&quot;width=device-width,\n",
       "                initial-scale=1.0, maximum-scale=1.0, user-scalable=no&quot; /&gt;\n",
       "            &lt;style&gt;\n",
       "                #map_fb9d2c699fea7b4313c400ca0f26f30a {\n",
       "                    position: relative;\n",
       "                    width: 100.0%;\n",
       "                    height: 100.0%;\n",
       "                    left: 0.0%;\n",
       "                    top: 0.0%;\n",
       "                }\n",
       "                .leaflet-container { font-size: 1rem; }\n",
       "            &lt;/style&gt;\n",
       "        \n",
       "&lt;/head&gt;\n",
       "&lt;body&gt;\n",
       "    \n",
       "    \n",
       "            &lt;div class=&quot;folium-map&quot; id=&quot;map_fb9d2c699fea7b4313c400ca0f26f30a&quot; &gt;&lt;/div&gt;\n",
       "        \n",
       "&lt;/body&gt;\n",
       "&lt;script&gt;\n",
       "    \n",
       "    \n",
       "            var map_fb9d2c699fea7b4313c400ca0f26f30a = L.map(\n",
       "                &quot;map_fb9d2c699fea7b4313c400ca0f26f30a&quot;,\n",
       "                {\n",
       "                    center: [39.8283, -98.5795],\n",
       "                    crs: L.CRS.EPSG3857,\n",
       "                    zoom: 4,\n",
       "                    zoomControl: true,\n",
       "                    preferCanvas: false,\n",
       "                }\n",
       "            );\n",
       "\n",
       "            \n",
       "\n",
       "        \n",
       "    \n",
       "            var tile_layer_4c55b3aecc3f7d2fe7472dce2e569a3e = L.tileLayer(\n",
       "                &quot;https://tile.openstreetmap.org/{z}/{x}/{y}.png&quot;,\n",
       "                {&quot;attribution&quot;: &quot;\\u0026copy; \\u003ca href=\\&quot;https://www.openstreetmap.org/copyright\\&quot;\\u003eOpenStreetMap\\u003c/a\\u003e contributors&quot;, &quot;detectRetina&quot;: false, &quot;maxNativeZoom&quot;: 19, &quot;maxZoom&quot;: 19, &quot;minZoom&quot;: 0, &quot;noWrap&quot;: false, &quot;opacity&quot;: 1, &quot;subdomains&quot;: &quot;abc&quot;, &quot;tms&quot;: false}\n",
       "            );\n",
       "        \n",
       "    \n",
       "            tile_layer_4c55b3aecc3f7d2fe7472dce2e569a3e.addTo(map_fb9d2c699fea7b4313c400ca0f26f30a);\n",
       "        \n",
       "    \n",
       "            var marker_3d9f9e9b045394d50c71bc88306a2eb1 = L.marker(\n",
       "                [41.8781, -87.6298],\n",
       "                {}\n",
       "            ).addTo(map_fb9d2c699fea7b4313c400ca0f26f30a);\n",
       "        \n",
       "    \n",
       "            var icon_4a74b79a3a8f6f8ae6ed412459fb21f4 = L.AwesomeMarkers.icon(\n",
       "                {&quot;extraClasses&quot;: &quot;fa-rotate-0&quot;, &quot;icon&quot;: &quot;info-sign&quot;, &quot;iconColor&quot;: &quot;white&quot;, &quot;markerColor&quot;: &quot;red&quot;, &quot;prefix&quot;: &quot;glyphicon&quot;}\n",
       "            );\n",
       "            marker_3d9f9e9b045394d50c71bc88306a2eb1.setIcon(icon_4a74b79a3a8f6f8ae6ed412459fb21f4);\n",
       "        \n",
       "    \n",
       "        var popup_aa233483a3ec37670a4d6f5b5e5d237a = L.popup({&quot;maxWidth&quot;: &quot;100%&quot;});\n",
       "\n",
       "        \n",
       "            \n",
       "                var html_aec343cb71f26f9450579df148172313 = $(`&lt;div id=&quot;html_aec343cb71f26f9450579df148172313&quot; style=&quot;width: 100.0%; height: 100.0%;&quot;&gt;Chicago&lt;/div&gt;`)[0];\n",
       "                popup_aa233483a3ec37670a4d6f5b5e5d237a.setContent(html_aec343cb71f26f9450579df148172313);\n",
       "            \n",
       "        \n",
       "\n",
       "        marker_3d9f9e9b045394d50c71bc88306a2eb1.bindPopup(popup_aa233483a3ec37670a4d6f5b5e5d237a)\n",
       "        ;\n",
       "\n",
       "        \n",
       "    \n",
       "    \n",
       "            var marker_1b6f59d8fe6d300d2546131ccba1c1c0 = L.marker(\n",
       "                [36.7783, -119.4179],\n",
       "                {}\n",
       "            ).addTo(map_fb9d2c699fea7b4313c400ca0f26f30a);\n",
       "        \n",
       "    \n",
       "            var icon_1a0452f9fbbe0518894303c58289d30a = L.AwesomeMarkers.icon(\n",
       "                {&quot;extraClasses&quot;: &quot;fa-rotate-0&quot;, &quot;icon&quot;: &quot;info-sign&quot;, &quot;iconColor&quot;: &quot;white&quot;, &quot;markerColor&quot;: &quot;red&quot;, &quot;prefix&quot;: &quot;glyphicon&quot;}\n",
       "            );\n",
       "            marker_1b6f59d8fe6d300d2546131ccba1c1c0.setIcon(icon_1a0452f9fbbe0518894303c58289d30a);\n",
       "        \n",
       "    \n",
       "        var popup_0104860604b746ceaaf7abd207d6a5cb = L.popup({&quot;maxWidth&quot;: &quot;100%&quot;});\n",
       "\n",
       "        \n",
       "            \n",
       "                var html_785dab4b3b56590dfda3d8a180e65eb6 = $(`&lt;div id=&quot;html_785dab4b3b56590dfda3d8a180e65eb6&quot; style=&quot;width: 100.0%; height: 100.0%;&quot;&gt;California&lt;/div&gt;`)[0];\n",
       "                popup_0104860604b746ceaaf7abd207d6a5cb.setContent(html_785dab4b3b56590dfda3d8a180e65eb6);\n",
       "            \n",
       "        \n",
       "\n",
       "        marker_1b6f59d8fe6d300d2546131ccba1c1c0.bindPopup(popup_0104860604b746ceaaf7abd207d6a5cb)\n",
       "        ;\n",
       "\n",
       "        \n",
       "    \n",
       "    \n",
       "            var marker_ec63cfecb4803ddb8cec0b40e6e1f932 = L.marker(\n",
       "                [40.7128, -74.006],\n",
       "                {}\n",
       "            ).addTo(map_fb9d2c699fea7b4313c400ca0f26f30a);\n",
       "        \n",
       "    \n",
       "            var icon_370cb4c522dfd6127e0d6891dbfe97c3 = L.AwesomeMarkers.icon(\n",
       "                {&quot;extraClasses&quot;: &quot;fa-rotate-0&quot;, &quot;icon&quot;: &quot;info-sign&quot;, &quot;iconColor&quot;: &quot;white&quot;, &quot;markerColor&quot;: &quot;red&quot;, &quot;prefix&quot;: &quot;glyphicon&quot;}\n",
       "            );\n",
       "            marker_ec63cfecb4803ddb8cec0b40e6e1f932.setIcon(icon_370cb4c522dfd6127e0d6891dbfe97c3);\n",
       "        \n",
       "    \n",
       "        var popup_d0b330fe79bd5074dbf626f553b9a89b = L.popup({&quot;maxWidth&quot;: &quot;100%&quot;});\n",
       "\n",
       "        \n",
       "            \n",
       "                var html_b60a6f180c510187d299f5f888fb497f = $(`&lt;div id=&quot;html_b60a6f180c510187d299f5f888fb497f&quot; style=&quot;width: 100.0%; height: 100.0%;&quot;&gt;New York&lt;/div&gt;`)[0];\n",
       "                popup_d0b330fe79bd5074dbf626f553b9a89b.setContent(html_b60a6f180c510187d299f5f888fb497f);\n",
       "            \n",
       "        \n",
       "\n",
       "        marker_ec63cfecb4803ddb8cec0b40e6e1f932.bindPopup(popup_d0b330fe79bd5074dbf626f553b9a89b)\n",
       "        ;\n",
       "\n",
       "        \n",
       "    \n",
       "    \n",
       "            var marker_9807f259de2163eb3608a52831556c36 = L.marker(\n",
       "                [40.0583, -74.4057],\n",
       "                {}\n",
       "            ).addTo(map_fb9d2c699fea7b4313c400ca0f26f30a);\n",
       "        \n",
       "    \n",
       "            var icon_4e457d9dc5e905c11c56e6db31324c68 = L.AwesomeMarkers.icon(\n",
       "                {&quot;extraClasses&quot;: &quot;fa-rotate-0&quot;, &quot;icon&quot;: &quot;info-sign&quot;, &quot;iconColor&quot;: &quot;white&quot;, &quot;markerColor&quot;: &quot;red&quot;, &quot;prefix&quot;: &quot;glyphicon&quot;}\n",
       "            );\n",
       "            marker_9807f259de2163eb3608a52831556c36.setIcon(icon_4e457d9dc5e905c11c56e6db31324c68);\n",
       "        \n",
       "    \n",
       "        var popup_d51777ee5822bf830248e690d180e278 = L.popup({&quot;maxWidth&quot;: &quot;100%&quot;});\n",
       "\n",
       "        \n",
       "            \n",
       "                var html_38368b63ac05577210673f622339b96a = $(`&lt;div id=&quot;html_38368b63ac05577210673f622339b96a&quot; style=&quot;width: 100.0%; height: 100.0%;&quot;&gt;New Jersey&lt;/div&gt;`)[0];\n",
       "                popup_d51777ee5822bf830248e690d180e278.setContent(html_38368b63ac05577210673f622339b96a);\n",
       "            \n",
       "        \n",
       "\n",
       "        marker_9807f259de2163eb3608a52831556c36.bindPopup(popup_d51777ee5822bf830248e690d180e278)\n",
       "        ;\n",
       "\n",
       "        \n",
       "    \n",
       "    \n",
       "            var marker_92b64c64aa25f4c7fdf0edfe71235039 = L.marker(\n",
       "                [38.9072, -77.0369],\n",
       "                {}\n",
       "            ).addTo(map_fb9d2c699fea7b4313c400ca0f26f30a);\n",
       "        \n",
       "    \n",
       "            var icon_7a2561510d249fc659466e79cf97e02a = L.AwesomeMarkers.icon(\n",
       "                {&quot;extraClasses&quot;: &quot;fa-rotate-0&quot;, &quot;icon&quot;: &quot;info-sign&quot;, &quot;iconColor&quot;: &quot;white&quot;, &quot;markerColor&quot;: &quot;red&quot;, &quot;prefix&quot;: &quot;glyphicon&quot;}\n",
       "            );\n",
       "            marker_92b64c64aa25f4c7fdf0edfe71235039.setIcon(icon_7a2561510d249fc659466e79cf97e02a);\n",
       "        \n",
       "    \n",
       "        var popup_56e9bd33d3c940f2108b623cea22938c = L.popup({&quot;maxWidth&quot;: &quot;100%&quot;});\n",
       "\n",
       "        \n",
       "            \n",
       "                var html_8dc2b3022ff048d0cd13de2ebb4c8685 = $(`&lt;div id=&quot;html_8dc2b3022ff048d0cd13de2ebb4c8685&quot; style=&quot;width: 100.0%; height: 100.0%;&quot;&gt;Washington DC&lt;/div&gt;`)[0];\n",
       "                popup_56e9bd33d3c940f2108b623cea22938c.setContent(html_8dc2b3022ff048d0cd13de2ebb4c8685);\n",
       "            \n",
       "        \n",
       "\n",
       "        marker_92b64c64aa25f4c7fdf0edfe71235039.bindPopup(popup_56e9bd33d3c940f2108b623cea22938c)\n",
       "        ;\n",
       "\n",
       "        \n",
       "    \n",
       "&lt;/script&gt;\n",
       "&lt;/html&gt;\" style=\"position:absolute;width:100%;height:100%;left:0;top:0;border:none !important;\" allowfullscreen webkitallowfullscreen mozallowfullscreen></iframe></div></div>"
      ],
      "text/plain": [
       "<folium.folium.Map at 0x7baf41d5b820>"
      ]
     },
     "execution_count": 7,
     "metadata": {},
     "output_type": "execute_result"
    }
   ],
   "source": [
    "# Map visualizations by Customer location\n",
    "import folium\n",
    "\n",
    "location_data = {\n",
    "    'Chicago': {'lat': 41.8781, 'long': -87.6298},\n",
    "    'California': {'lat': 36.7783, 'long': -119.4179},\n",
    "    'New York': {'lat': 40.7128, 'long': -74.0060},\n",
    "    'New Jersey': {'lat': 40.0583, 'long': -74.4057},\n",
    "    'Washington DC': {'lat': 38.9072, 'long': -77.0369}\n",
    "}\n",
    "\n",
    "map = folium.Map(location=[39.8283, -98.5795], zoom_start=4)\n",
    "\n",
    "for city, coord in location_data.items():\n",
    "    folium.Marker(\n",
    "        location=[coord['lat'], coord['long']],\n",
    "        popup=f'{city}',\n",
    "        icon=folium.Icon(color='red', icon='info-sign')\n",
    "    ).add_to(map)\n",
    "\n",
    "map"
   ]
  },
  {
   "cell_type": "markdown",
   "id": "6c61212d",
   "metadata": {
    "papermill": {
     "duration": 0.012617,
     "end_time": "2024-04-27T12:50:30.868392",
     "exception": false,
     "start_time": "2024-04-27T12:50:30.855775",
     "status": "completed"
    },
    "tags": []
   },
   "source": [
    "**Data Preprocessing**"
   ]
  },
  {
   "cell_type": "code",
   "execution_count": 8,
   "id": "95f66250",
   "metadata": {
    "execution": {
     "iopub.execute_input": "2024-04-27T12:50:30.897141Z",
     "iopub.status.busy": "2024-04-27T12:50:30.895574Z",
     "iopub.status.idle": "2024-04-27T12:50:31.053354Z",
     "shell.execute_reply": "2024-04-27T12:50:31.051974Z"
    },
    "papermill": {
     "duration": 0.17502,
     "end_time": "2024-04-27T12:50:31.056300",
     "exception": false,
     "start_time": "2024-04-27T12:50:30.881280",
     "status": "completed"
    },
    "tags": []
   },
   "outputs": [],
   "source": [
    "# Month data change to numeric \n",
    "# Month mapping\n",
    "month_mapping = {'Jan': 1, 'Feb': 2, 'Mar': 3, 'Apr': 4, 'May': 5, 'Jun': 6,\n",
    "                 'Jul': 7, 'Aug': 8, 'Sep': 9, 'Oct': 10, 'Nov': 11, 'Dec': 12}\n",
    "discount[\"Month\"] = discount[\"Month\"].map(month_mapping)\n",
    "onlinesales[\"Transaction_date\"] = pd.to_datetime(onlinesales['Transaction_date'])\n",
    "onlinesales['Month'] = onlinesales['Transaction_date'].dt.month\n",
    "\n",
    "# online, customer join on Customer_ID \n",
    "df = pd.merge(onlinesales, customer, on='Customer_ID', how='left')\n",
    "\n",
    "# df, discount join on Month and Product_category\n",
    "df = pd.merge(df, discount, on=['Month', 'Category'], how='left')\n",
    "\n",
    "# df, tax join on Product_category\n",
    "df = pd.merge(df, tax, on='Category', how='left')"
   ]
  },
  {
   "cell_type": "code",
   "execution_count": 9,
   "id": "2f31ea2f",
   "metadata": {
    "execution": {
     "iopub.execute_input": "2024-04-27T12:50:31.084592Z",
     "iopub.status.busy": "2024-04-27T12:50:31.083732Z",
     "iopub.status.idle": "2024-04-27T12:50:31.139435Z",
     "shell.execute_reply": "2024-04-27T12:50:31.138286Z"
    },
    "papermill": {
     "duration": 0.072942,
     "end_time": "2024-04-27T12:50:31.142210",
     "exception": false,
     "start_time": "2024-04-27T12:50:31.069268",
     "status": "completed"
    },
    "tags": []
   },
   "outputs": [
    {
     "data": {
      "text/plain": [
       "Customer_ID              0\n",
       "Transaction_ID           0\n",
       "Transaction_date         0\n",
       "Product_ID               0\n",
       "Category                 0\n",
       "Qty                      0\n",
       "Average_price            0\n",
       "Delivery_fee             0\n",
       "Coupon_status            0\n",
       "Month                    0\n",
       "Sex                      0\n",
       "Location                 0\n",
       "Membership Duration      0\n",
       "Coupon_code            400\n",
       "Discount(%)            400\n",
       "GST                      0\n",
       "dtype: int64"
      ]
     },
     "execution_count": 9,
     "metadata": {},
     "output_type": "execute_result"
    }
   ],
   "source": [
    "# check for missing values again\n",
    "df.isnull().sum()"
   ]
  },
  {
   "cell_type": "markdown",
   "id": "f2388543",
   "metadata": {
    "papermill": {
     "duration": 0.012924,
     "end_time": "2024-04-27T12:50:31.169812",
     "exception": false,
     "start_time": "2024-04-27T12:50:31.156888",
     "status": "completed"
    },
    "tags": []
   },
   "source": [
    "I have observed missing values in the 'Coupon_code' and 'Discount(%)' columns."
   ]
  },
  {
   "cell_type": "code",
   "execution_count": 10,
   "id": "e5d87809",
   "metadata": {
    "execution": {
     "iopub.execute_input": "2024-04-27T12:50:31.199597Z",
     "iopub.status.busy": "2024-04-27T12:50:31.198393Z",
     "iopub.status.idle": "2024-04-27T12:50:31.213312Z",
     "shell.execute_reply": "2024-04-27T12:50:31.212081Z"
    },
    "papermill": {
     "duration": 0.032646,
     "end_time": "2024-04-27T12:50:31.216230",
     "exception": false,
     "start_time": "2024-04-27T12:50:31.183584",
     "status": "completed"
    },
    "tags": []
   },
   "outputs": [],
   "source": [
    "# Fill in the missing values in the 'Coupon_code' column with 'unknown' and the missing values in the 'Discount(%)' column with 0.\n",
    "df['Coupon_code'].fillna(\"Unknown\", inplace = True)\n",
    "df[\"Discount(%)\"].fillna(0, inplace = True)"
   ]
  },
  {
   "cell_type": "markdown",
   "id": "110e22e1",
   "metadata": {
    "papermill": {
     "duration": 0.012831,
     "end_time": "2024-04-27T12:50:31.243079",
     "exception": false,
     "start_time": "2024-04-27T12:50:31.230248",
     "status": "completed"
    },
    "tags": []
   },
   "source": [
    "**Calculate RFM metrics and classify customer segments.**\n",
    "\n",
    "(1) Calculate Recency, Frequency, and Monetary metrics."
   ]
  },
  {
   "cell_type": "code",
   "execution_count": 11,
   "id": "541e4429",
   "metadata": {
    "execution": {
     "iopub.execute_input": "2024-04-27T12:50:31.272234Z",
     "iopub.status.busy": "2024-04-27T12:50:31.271099Z",
     "iopub.status.idle": "2024-04-27T12:50:31.299605Z",
     "shell.execute_reply": "2024-04-27T12:50:31.298562Z"
    },
    "papermill": {
     "duration": 0.045857,
     "end_time": "2024-04-27T12:50:31.302184",
     "exception": false,
     "start_time": "2024-04-27T12:50:31.256327",
     "status": "completed"
    },
    "tags": []
   },
   "outputs": [
    {
     "data": {
      "text/html": [
       "<div>\n",
       "<style scoped>\n",
       "    .dataframe tbody tr th:only-of-type {\n",
       "        vertical-align: middle;\n",
       "    }\n",
       "\n",
       "    .dataframe tbody tr th {\n",
       "        vertical-align: top;\n",
       "    }\n",
       "\n",
       "    .dataframe thead th {\n",
       "        text-align: right;\n",
       "    }\n",
       "</style>\n",
       "<table border=\"1\" class=\"dataframe\">\n",
       "  <thead>\n",
       "    <tr style=\"text-align: right;\">\n",
       "      <th></th>\n",
       "      <th>Customer_ID</th>\n",
       "      <th>Transaction_ID</th>\n",
       "      <th>Transaction_date</th>\n",
       "      <th>Product_ID</th>\n",
       "      <th>Category</th>\n",
       "      <th>Qty</th>\n",
       "      <th>Average_price</th>\n",
       "      <th>Delivery_fee</th>\n",
       "      <th>Coupon_status</th>\n",
       "      <th>Month</th>\n",
       "      <th>Sex</th>\n",
       "      <th>Location</th>\n",
       "      <th>Membership Duration</th>\n",
       "      <th>Coupon_code</th>\n",
       "      <th>Discount(%)</th>\n",
       "      <th>GST</th>\n",
       "    </tr>\n",
       "  </thead>\n",
       "  <tbody>\n",
       "    <tr>\n",
       "      <th>0</th>\n",
       "      <td>USER_1358</td>\n",
       "      <td>Transaction_0000</td>\n",
       "      <td>2019-01-01</td>\n",
       "      <td>Product_0981</td>\n",
       "      <td>Nest-USA</td>\n",
       "      <td>1</td>\n",
       "      <td>153.71</td>\n",
       "      <td>6.5</td>\n",
       "      <td>Used</td>\n",
       "      <td>1</td>\n",
       "      <td>남</td>\n",
       "      <td>Chicago</td>\n",
       "      <td>12</td>\n",
       "      <td>ELEC10</td>\n",
       "      <td>10.0</td>\n",
       "      <td>0.10</td>\n",
       "    </tr>\n",
       "    <tr>\n",
       "      <th>1</th>\n",
       "      <td>USER_1358</td>\n",
       "      <td>Transaction_0001</td>\n",
       "      <td>2019-01-01</td>\n",
       "      <td>Product_0981</td>\n",
       "      <td>Nest-USA</td>\n",
       "      <td>1</td>\n",
       "      <td>153.71</td>\n",
       "      <td>6.5</td>\n",
       "      <td>Used</td>\n",
       "      <td>1</td>\n",
       "      <td>남</td>\n",
       "      <td>Chicago</td>\n",
       "      <td>12</td>\n",
       "      <td>ELEC10</td>\n",
       "      <td>10.0</td>\n",
       "      <td>0.10</td>\n",
       "    </tr>\n",
       "    <tr>\n",
       "      <th>2</th>\n",
       "      <td>USER_1358</td>\n",
       "      <td>Transaction_0002</td>\n",
       "      <td>2019-01-01</td>\n",
       "      <td>Product_0904</td>\n",
       "      <td>Office</td>\n",
       "      <td>1</td>\n",
       "      <td>2.05</td>\n",
       "      <td>6.5</td>\n",
       "      <td>Used</td>\n",
       "      <td>1</td>\n",
       "      <td>남</td>\n",
       "      <td>Chicago</td>\n",
       "      <td>12</td>\n",
       "      <td>OFF10</td>\n",
       "      <td>10.0</td>\n",
       "      <td>0.10</td>\n",
       "    </tr>\n",
       "    <tr>\n",
       "      <th>3</th>\n",
       "      <td>USER_1358</td>\n",
       "      <td>Transaction_0003</td>\n",
       "      <td>2019-01-01</td>\n",
       "      <td>Product_0203</td>\n",
       "      <td>Apparel</td>\n",
       "      <td>5</td>\n",
       "      <td>17.53</td>\n",
       "      <td>6.5</td>\n",
       "      <td>Not Used</td>\n",
       "      <td>1</td>\n",
       "      <td>남</td>\n",
       "      <td>Chicago</td>\n",
       "      <td>12</td>\n",
       "      <td>SALE10</td>\n",
       "      <td>10.0</td>\n",
       "      <td>0.18</td>\n",
       "    </tr>\n",
       "    <tr>\n",
       "      <th>4</th>\n",
       "      <td>USER_1358</td>\n",
       "      <td>Transaction_0003</td>\n",
       "      <td>2019-01-01</td>\n",
       "      <td>Product_0848</td>\n",
       "      <td>Bags</td>\n",
       "      <td>1</td>\n",
       "      <td>16.50</td>\n",
       "      <td>6.5</td>\n",
       "      <td>Used</td>\n",
       "      <td>1</td>\n",
       "      <td>남</td>\n",
       "      <td>Chicago</td>\n",
       "      <td>12</td>\n",
       "      <td>AIO10</td>\n",
       "      <td>10.0</td>\n",
       "      <td>0.18</td>\n",
       "    </tr>\n",
       "  </tbody>\n",
       "</table>\n",
       "</div>"
      ],
      "text/plain": [
       "  Customer_ID    Transaction_ID Transaction_date    Product_ID  Category  Qty  \\\n",
       "0   USER_1358  Transaction_0000       2019-01-01  Product_0981  Nest-USA    1   \n",
       "1   USER_1358  Transaction_0001       2019-01-01  Product_0981  Nest-USA    1   \n",
       "2   USER_1358  Transaction_0002       2019-01-01  Product_0904    Office    1   \n",
       "3   USER_1358  Transaction_0003       2019-01-01  Product_0203   Apparel    5   \n",
       "4   USER_1358  Transaction_0003       2019-01-01  Product_0848      Bags    1   \n",
       "\n",
       "   Average_price  Delivery_fee Coupon_status  Month Sex Location  \\\n",
       "0         153.71           6.5          Used      1   남  Chicago   \n",
       "1         153.71           6.5          Used      1   남  Chicago   \n",
       "2           2.05           6.5          Used      1   남  Chicago   \n",
       "3          17.53           6.5      Not Used      1   남  Chicago   \n",
       "4          16.50           6.5          Used      1   남  Chicago   \n",
       "\n",
       "   Membership Duration Coupon_code  Discount(%)   GST  \n",
       "0                   12      ELEC10         10.0  0.10  \n",
       "1                   12      ELEC10         10.0  0.10  \n",
       "2                   12       OFF10         10.0  0.10  \n",
       "3                   12      SALE10         10.0  0.18  \n",
       "4                   12       AIO10         10.0  0.18  "
      ]
     },
     "execution_count": 11,
     "metadata": {},
     "output_type": "execute_result"
    }
   ],
   "source": [
    "df.head()"
   ]
  },
  {
   "cell_type": "code",
   "execution_count": 12,
   "id": "f9a8a9f7",
   "metadata": {
    "execution": {
     "iopub.execute_input": "2024-04-27T12:50:31.332534Z",
     "iopub.status.busy": "2024-04-27T12:50:31.331493Z",
     "iopub.status.idle": "2024-04-27T12:50:32.936183Z",
     "shell.execute_reply": "2024-04-27T12:50:32.934940Z"
    },
    "papermill": {
     "duration": 1.623106,
     "end_time": "2024-04-27T12:50:32.939329",
     "exception": false,
     "start_time": "2024-04-27T12:50:31.316223",
     "status": "completed"
    },
    "tags": []
   },
   "outputs": [],
   "source": [
    "# Create \"Total\" column \n",
    "df[\"Total\"] = df[\"Qty\"] * df[\"Average_price\"]\n",
    "\n",
    "# Define a function to calculate the total amount paid.\n",
    "def total(row):\n",
    "    price = row[\"Total\"]\n",
    "    gst = row[\"GST\"]\n",
    "    discount_rate = row[\"Discount(%)\"] if row [\"Coupon_status\"] == \"Used\" else 0\n",
    "    subtotal = price*(1-discount_rate/100)\n",
    "    total = subtotal + (subtotal*gst)\n",
    "    return total\n",
    "\n",
    "df[\"Paid_amount\"] = df.apply(total, axis=1)\n",
    "# Excluding shipping fees"
   ]
  },
  {
   "cell_type": "code",
   "execution_count": 13,
   "id": "98b3007b",
   "metadata": {
    "execution": {
     "iopub.execute_input": "2024-04-27T12:50:32.970547Z",
     "iopub.status.busy": "2024-04-27T12:50:32.970064Z",
     "iopub.status.idle": "2024-04-27T12:50:32.997664Z",
     "shell.execute_reply": "2024-04-27T12:50:32.995998Z"
    },
    "papermill": {
     "duration": 0.046274,
     "end_time": "2024-04-27T12:50:33.000575",
     "exception": false,
     "start_time": "2024-04-27T12:50:32.954301",
     "status": "completed"
    },
    "tags": []
   },
   "outputs": [
    {
     "data": {
      "text/html": [
       "<div>\n",
       "<style scoped>\n",
       "    .dataframe tbody tr th:only-of-type {\n",
       "        vertical-align: middle;\n",
       "    }\n",
       "\n",
       "    .dataframe tbody tr th {\n",
       "        vertical-align: top;\n",
       "    }\n",
       "\n",
       "    .dataframe thead th {\n",
       "        text-align: right;\n",
       "    }\n",
       "</style>\n",
       "<table border=\"1\" class=\"dataframe\">\n",
       "  <thead>\n",
       "    <tr style=\"text-align: right;\">\n",
       "      <th></th>\n",
       "      <th>Customer_ID</th>\n",
       "      <th>Transaction_ID</th>\n",
       "      <th>Transaction_date</th>\n",
       "      <th>Product_ID</th>\n",
       "      <th>Category</th>\n",
       "      <th>Qty</th>\n",
       "      <th>Average_price</th>\n",
       "      <th>Delivery_fee</th>\n",
       "      <th>Coupon_status</th>\n",
       "      <th>Month</th>\n",
       "      <th>Sex</th>\n",
       "      <th>Location</th>\n",
       "      <th>Membership Duration</th>\n",
       "      <th>Coupon_code</th>\n",
       "      <th>Discount(%)</th>\n",
       "      <th>GST</th>\n",
       "      <th>Total</th>\n",
       "      <th>Paid_amount</th>\n",
       "    </tr>\n",
       "  </thead>\n",
       "  <tbody>\n",
       "    <tr>\n",
       "      <th>0</th>\n",
       "      <td>USER_1358</td>\n",
       "      <td>Transaction_0000</td>\n",
       "      <td>2019-01-01</td>\n",
       "      <td>Product_0981</td>\n",
       "      <td>Nest-USA</td>\n",
       "      <td>1</td>\n",
       "      <td>153.71</td>\n",
       "      <td>6.5</td>\n",
       "      <td>Used</td>\n",
       "      <td>1</td>\n",
       "      <td>남</td>\n",
       "      <td>Chicago</td>\n",
       "      <td>12</td>\n",
       "      <td>ELEC10</td>\n",
       "      <td>10.0</td>\n",
       "      <td>0.10</td>\n",
       "      <td>153.71</td>\n",
       "      <td>152.1729</td>\n",
       "    </tr>\n",
       "    <tr>\n",
       "      <th>1</th>\n",
       "      <td>USER_1358</td>\n",
       "      <td>Transaction_0001</td>\n",
       "      <td>2019-01-01</td>\n",
       "      <td>Product_0981</td>\n",
       "      <td>Nest-USA</td>\n",
       "      <td>1</td>\n",
       "      <td>153.71</td>\n",
       "      <td>6.5</td>\n",
       "      <td>Used</td>\n",
       "      <td>1</td>\n",
       "      <td>남</td>\n",
       "      <td>Chicago</td>\n",
       "      <td>12</td>\n",
       "      <td>ELEC10</td>\n",
       "      <td>10.0</td>\n",
       "      <td>0.10</td>\n",
       "      <td>153.71</td>\n",
       "      <td>152.1729</td>\n",
       "    </tr>\n",
       "    <tr>\n",
       "      <th>2</th>\n",
       "      <td>USER_1358</td>\n",
       "      <td>Transaction_0002</td>\n",
       "      <td>2019-01-01</td>\n",
       "      <td>Product_0904</td>\n",
       "      <td>Office</td>\n",
       "      <td>1</td>\n",
       "      <td>2.05</td>\n",
       "      <td>6.5</td>\n",
       "      <td>Used</td>\n",
       "      <td>1</td>\n",
       "      <td>남</td>\n",
       "      <td>Chicago</td>\n",
       "      <td>12</td>\n",
       "      <td>OFF10</td>\n",
       "      <td>10.0</td>\n",
       "      <td>0.10</td>\n",
       "      <td>2.05</td>\n",
       "      <td>2.0295</td>\n",
       "    </tr>\n",
       "    <tr>\n",
       "      <th>3</th>\n",
       "      <td>USER_1358</td>\n",
       "      <td>Transaction_0003</td>\n",
       "      <td>2019-01-01</td>\n",
       "      <td>Product_0203</td>\n",
       "      <td>Apparel</td>\n",
       "      <td>5</td>\n",
       "      <td>17.53</td>\n",
       "      <td>6.5</td>\n",
       "      <td>Not Used</td>\n",
       "      <td>1</td>\n",
       "      <td>남</td>\n",
       "      <td>Chicago</td>\n",
       "      <td>12</td>\n",
       "      <td>SALE10</td>\n",
       "      <td>10.0</td>\n",
       "      <td>0.18</td>\n",
       "      <td>87.65</td>\n",
       "      <td>103.4270</td>\n",
       "    </tr>\n",
       "    <tr>\n",
       "      <th>4</th>\n",
       "      <td>USER_1358</td>\n",
       "      <td>Transaction_0003</td>\n",
       "      <td>2019-01-01</td>\n",
       "      <td>Product_0848</td>\n",
       "      <td>Bags</td>\n",
       "      <td>1</td>\n",
       "      <td>16.50</td>\n",
       "      <td>6.5</td>\n",
       "      <td>Used</td>\n",
       "      <td>1</td>\n",
       "      <td>남</td>\n",
       "      <td>Chicago</td>\n",
       "      <td>12</td>\n",
       "      <td>AIO10</td>\n",
       "      <td>10.0</td>\n",
       "      <td>0.18</td>\n",
       "      <td>16.50</td>\n",
       "      <td>17.5230</td>\n",
       "    </tr>\n",
       "  </tbody>\n",
       "</table>\n",
       "</div>"
      ],
      "text/plain": [
       "  Customer_ID    Transaction_ID Transaction_date    Product_ID  Category  Qty  \\\n",
       "0   USER_1358  Transaction_0000       2019-01-01  Product_0981  Nest-USA    1   \n",
       "1   USER_1358  Transaction_0001       2019-01-01  Product_0981  Nest-USA    1   \n",
       "2   USER_1358  Transaction_0002       2019-01-01  Product_0904    Office    1   \n",
       "3   USER_1358  Transaction_0003       2019-01-01  Product_0203   Apparel    5   \n",
       "4   USER_1358  Transaction_0003       2019-01-01  Product_0848      Bags    1   \n",
       "\n",
       "   Average_price  Delivery_fee Coupon_status  Month Sex Location  \\\n",
       "0         153.71           6.5          Used      1   남  Chicago   \n",
       "1         153.71           6.5          Used      1   남  Chicago   \n",
       "2           2.05           6.5          Used      1   남  Chicago   \n",
       "3          17.53           6.5      Not Used      1   남  Chicago   \n",
       "4          16.50           6.5          Used      1   남  Chicago   \n",
       "\n",
       "   Membership Duration Coupon_code  Discount(%)   GST   Total  Paid_amount  \n",
       "0                   12      ELEC10         10.0  0.10  153.71     152.1729  \n",
       "1                   12      ELEC10         10.0  0.10  153.71     152.1729  \n",
       "2                   12       OFF10         10.0  0.10    2.05       2.0295  \n",
       "3                   12      SALE10         10.0  0.18   87.65     103.4270  \n",
       "4                   12       AIO10         10.0  0.18   16.50      17.5230  "
      ]
     },
     "execution_count": 13,
     "metadata": {},
     "output_type": "execute_result"
    }
   ],
   "source": [
    "df.head()"
   ]
  },
  {
   "cell_type": "markdown",
   "id": "f0824ac4",
   "metadata": {
    "papermill": {
     "duration": 0.013934,
     "end_time": "2024-04-27T12:50:33.029626",
     "exception": false,
     "start_time": "2024-04-27T12:50:33.015692",
     "status": "completed"
    },
    "tags": []
   },
   "source": [
    "To determine the total amount paid by a customer in a single transaction, a 'Total' column was created by multiplying 'Qty' and 'Average_Price'. Additionally, a 'Paid_amount' column was created to reflect the actual amount paid in the transaction, taking into account the discount rate for customers who used coupons and applying taxes by product category."
   ]
  },
  {
   "cell_type": "code",
   "execution_count": 14,
   "id": "733a97d2",
   "metadata": {
    "execution": {
     "iopub.execute_input": "2024-04-27T12:50:33.060827Z",
     "iopub.status.busy": "2024-04-27T12:50:33.060389Z",
     "iopub.status.idle": "2024-04-27T12:50:33.115360Z",
     "shell.execute_reply": "2024-04-27T12:50:33.113647Z"
    },
    "papermill": {
     "duration": 0.07399,
     "end_time": "2024-04-27T12:50:33.118585",
     "exception": false,
     "start_time": "2024-04-27T12:50:33.044595",
     "status": "completed"
    },
    "tags": []
   },
   "outputs": [
    {
     "data": {
      "text/plain": [
       "Delivery_fee\n",
       "1    25061\n",
       "Name: count, dtype: int64"
      ]
     },
     "execution_count": 14,
     "metadata": {},
     "output_type": "execute_result"
    }
   ],
   "source": [
    "# Let's check the shipping fees by transaction ID.\n",
    "df.groupby(\"Transaction_ID\")[\"Delivery_fee\"].nunique().value_counts()\n",
    "#If the transaction IDs are the same, then the shipping fees are the same."
   ]
  },
  {
   "cell_type": "code",
   "execution_count": 15,
   "id": "169d165f",
   "metadata": {
    "execution": {
     "iopub.execute_input": "2024-04-27T12:50:33.150536Z",
     "iopub.status.busy": "2024-04-27T12:50:33.149361Z",
     "iopub.status.idle": "2024-04-27T12:50:33.299757Z",
     "shell.execute_reply": "2024-04-27T12:50:33.298592Z"
    },
    "papermill": {
     "duration": 0.169654,
     "end_time": "2024-04-27T12:50:33.303025",
     "exception": false,
     "start_time": "2024-04-27T12:50:33.133371",
     "status": "completed"
    },
    "tags": []
   },
   "outputs": [],
   "source": [
    "# Find the first shipping fee for each customer ID and transaction ID = unique shipping fee per customer ID and transaction ID.\n",
    "first_delivery_fee_by_customer = df.groupby(['Customer_ID', \"Transaction_ID\"]).first()[\"Delivery_fee\"]\n",
    "\n",
    "# Match and store the sum of the shipping fees with each customer ID.\n",
    "customer_delivery_fee_sum = first_delivery_fee_by_customer.groupby(\"Customer_ID\").sum()"
   ]
  },
  {
   "cell_type": "code",
   "execution_count": 16,
   "id": "670984db",
   "metadata": {
    "execution": {
     "iopub.execute_input": "2024-04-27T12:50:33.334655Z",
     "iopub.status.busy": "2024-04-27T12:50:33.334196Z",
     "iopub.status.idle": "2024-04-27T12:50:33.344092Z",
     "shell.execute_reply": "2024-04-27T12:50:33.343194Z"
    },
    "papermill": {
     "duration": 0.028617,
     "end_time": "2024-04-27T12:50:33.346424",
     "exception": false,
     "start_time": "2024-04-27T12:50:33.317807",
     "status": "completed"
    },
    "tags": []
   },
   "outputs": [
    {
     "data": {
      "text/plain": [
       "Customer_ID  Transaction_ID   \n",
       "USER_0000    Transaction_16900    75.00\n",
       "USER_0001    Transaction_20178    20.85\n",
       "             Transaction_20179     6.00\n",
       "             Transaction_20180     6.00\n",
       "             Transaction_20181     6.00\n",
       "Name: Delivery_fee, dtype: float64"
      ]
     },
     "execution_count": 16,
     "metadata": {},
     "output_type": "execute_result"
    }
   ],
   "source": [
    "first_delivery_fee_by_customer.head()"
   ]
  },
  {
   "cell_type": "code",
   "execution_count": 17,
   "id": "8c915964",
   "metadata": {
    "execution": {
     "iopub.execute_input": "2024-04-27T12:50:33.378363Z",
     "iopub.status.busy": "2024-04-27T12:50:33.377651Z",
     "iopub.status.idle": "2024-04-27T12:50:33.386223Z",
     "shell.execute_reply": "2024-04-27T12:50:33.384951Z"
    },
    "papermill": {
     "duration": 0.027658,
     "end_time": "2024-04-27T12:50:33.389080",
     "exception": false,
     "start_time": "2024-04-27T12:50:33.361422",
     "status": "completed"
    },
    "tags": []
   },
   "outputs": [
    {
     "data": {
      "text/plain": [
       "Customer_ID\n",
       "USER_0000     75.00\n",
       "USER_0001    286.46\n",
       "USER_0002     81.07\n",
       "USER_0003     82.39\n",
       "USER_0004    154.49\n",
       "Name: Delivery_fee, dtype: float64"
      ]
     },
     "execution_count": 17,
     "metadata": {},
     "output_type": "execute_result"
    }
   ],
   "source": [
    "customer_delivery_fee_sum.head()"
   ]
  },
  {
   "cell_type": "markdown",
   "id": "8bf48858",
   "metadata": {
    "papermill": {
     "duration": 0.014851,
     "end_time": "2024-04-27T12:50:33.418750",
     "exception": false,
     "start_time": "2024-04-27T12:50:33.403899",
     "status": "completed"
    },
    "tags": []
   },
   "source": [
    "**🎈LET'S SET THE RFM!!**"
   ]
  },
  {
   "cell_type": "code",
   "execution_count": 18,
   "id": "f104fc38",
   "metadata": {
    "execution": {
     "iopub.execute_input": "2024-04-27T12:50:33.450101Z",
     "iopub.status.busy": "2024-04-27T12:50:33.449645Z",
     "iopub.status.idle": "2024-04-27T12:50:33.461914Z",
     "shell.execute_reply": "2024-04-27T12:50:33.460683Z"
    },
    "papermill": {
     "duration": 0.031153,
     "end_time": "2024-04-27T12:50:33.464914",
     "exception": false,
     "start_time": "2024-04-27T12:50:33.433761",
     "status": "completed"
    },
    "tags": []
   },
   "outputs": [
    {
     "name": "stdout",
     "output_type": "stream",
     "text": [
      "2020-01-01 00:00:00\n"
     ]
    }
   ],
   "source": [
    "# Set the day after the last day of the data as the reference point.\n",
    "last = df['Transaction_date'].max() + pd.DateOffset(days=1)\n",
    "print(last)"
   ]
  },
  {
   "cell_type": "markdown",
   "id": "b79d5e4b",
   "metadata": {
    "papermill": {
     "duration": 0.014454,
     "end_time": "2024-04-27T12:50:33.494581",
     "exception": false,
     "start_time": "2024-04-27T12:50:33.480127",
     "status": "completed"
    },
    "tags": []
   },
   "source": [
    "The latest day is 2020-01-01 00:00:00"
   ]
  },
  {
   "cell_type": "code",
   "execution_count": 19,
   "id": "7a8f8612",
   "metadata": {
    "execution": {
     "iopub.execute_input": "2024-04-27T12:50:33.526410Z",
     "iopub.status.busy": "2024-04-27T12:50:33.525962Z",
     "iopub.status.idle": "2024-04-27T12:50:33.839698Z",
     "shell.execute_reply": "2024-04-27T12:50:33.838522Z"
    },
    "papermill": {
     "duration": 0.333126,
     "end_time": "2024-04-27T12:50:33.842622",
     "exception": false,
     "start_time": "2024-04-27T12:50:33.509496",
     "status": "completed"
    },
    "tags": []
   },
   "outputs": [
    {
     "data": {
      "text/html": [
       "<div>\n",
       "<style scoped>\n",
       "    .dataframe tbody tr th:only-of-type {\n",
       "        vertical-align: middle;\n",
       "    }\n",
       "\n",
       "    .dataframe tbody tr th {\n",
       "        vertical-align: top;\n",
       "    }\n",
       "\n",
       "    .dataframe thead th {\n",
       "        text-align: right;\n",
       "    }\n",
       "</style>\n",
       "<table border=\"1\" class=\"dataframe\">\n",
       "  <thead>\n",
       "    <tr style=\"text-align: right;\">\n",
       "      <th></th>\n",
       "      <th>Customer_ID</th>\n",
       "      <th>Recency</th>\n",
       "      <th>Frequency</th>\n",
       "      <th>Monetary</th>\n",
       "    </tr>\n",
       "  </thead>\n",
       "  <tbody>\n",
       "    <tr>\n",
       "      <th>0</th>\n",
       "      <td>USER_0000</td>\n",
       "      <td>108</td>\n",
       "      <td>1</td>\n",
       "      <td>24.98174</td>\n",
       "    </tr>\n",
       "    <tr>\n",
       "      <th>1</th>\n",
       "      <td>USER_0001</td>\n",
       "      <td>60</td>\n",
       "      <td>31</td>\n",
       "      <td>15021.70396</td>\n",
       "    </tr>\n",
       "    <tr>\n",
       "      <th>2</th>\n",
       "      <td>USER_0002</td>\n",
       "      <td>74</td>\n",
       "      <td>8</td>\n",
       "      <td>1492.40594</td>\n",
       "    </tr>\n",
       "    <tr>\n",
       "      <th>3</th>\n",
       "      <td>USER_0003</td>\n",
       "      <td>18</td>\n",
       "      <td>11</td>\n",
       "      <td>1339.55528</td>\n",
       "    </tr>\n",
       "    <tr>\n",
       "      <th>4</th>\n",
       "      <td>USER_0004</td>\n",
       "      <td>108</td>\n",
       "      <td>13</td>\n",
       "      <td>1369.93900</td>\n",
       "    </tr>\n",
       "  </tbody>\n",
       "</table>\n",
       "</div>"
      ],
      "text/plain": [
       "  Customer_ID  Recency  Frequency     Monetary\n",
       "0   USER_0000      108          1     24.98174\n",
       "1   USER_0001       60         31  15021.70396\n",
       "2   USER_0002       74          8   1492.40594\n",
       "3   USER_0003       18         11   1339.55528\n",
       "4   USER_0004      108         13   1369.93900"
      ]
     },
     "execution_count": 19,
     "metadata": {},
     "output_type": "execute_result"
    }
   ],
   "source": [
    "rfm_df = df.groupby([\"Customer_ID\"]).agg({\n",
    "    \"Transaction_date\" : lambda x : (last - x.max()).days,\n",
    "    \"Transaction_ID\" : lambda x : x.nunique(),\n",
    "    \"Paid_amount\" : \"sum\"})\n",
    "\n",
    "rfm_df.rename(columns = {\"Transaction_date\" : \"Recency\",\n",
    "                        \"Transaction_ID\" : \"Frequency\",\n",
    "                        \"Paid_amount\" : \"Monetary\"}, inplace = True)\n",
    "rfm_df.reset_index(inplace=True)\n",
    "rfm_df.head()"
   ]
  },
  {
   "cell_type": "code",
   "execution_count": 20,
   "id": "1c6d5358",
   "metadata": {
    "execution": {
     "iopub.execute_input": "2024-04-27T12:50:33.874587Z",
     "iopub.status.busy": "2024-04-27T12:50:33.874110Z",
     "iopub.status.idle": "2024-04-27T12:50:36.030868Z",
     "shell.execute_reply": "2024-04-27T12:50:36.029686Z"
    },
    "papermill": {
     "duration": 2.175659,
     "end_time": "2024-04-27T12:50:36.033423",
     "exception": false,
     "start_time": "2024-04-27T12:50:33.857764",
     "status": "completed"
    },
    "tags": []
   },
   "outputs": [
    {
     "data": {
      "text/html": [
       "<div>\n",
       "<style scoped>\n",
       "    .dataframe tbody tr th:only-of-type {\n",
       "        vertical-align: middle;\n",
       "    }\n",
       "\n",
       "    .dataframe tbody tr th {\n",
       "        vertical-align: top;\n",
       "    }\n",
       "\n",
       "    .dataframe thead th {\n",
       "        text-align: right;\n",
       "    }\n",
       "</style>\n",
       "<table border=\"1\" class=\"dataframe\">\n",
       "  <thead>\n",
       "    <tr style=\"text-align: right;\">\n",
       "      <th></th>\n",
       "      <th>Customer_ID</th>\n",
       "      <th>Recency</th>\n",
       "      <th>Frequency</th>\n",
       "      <th>Monetary</th>\n",
       "    </tr>\n",
       "  </thead>\n",
       "  <tbody>\n",
       "    <tr>\n",
       "      <th>0</th>\n",
       "      <td>USER_0000</td>\n",
       "      <td>108</td>\n",
       "      <td>1</td>\n",
       "      <td>99.98174</td>\n",
       "    </tr>\n",
       "    <tr>\n",
       "      <th>1</th>\n",
       "      <td>USER_0001</td>\n",
       "      <td>60</td>\n",
       "      <td>31</td>\n",
       "      <td>15308.16396</td>\n",
       "    </tr>\n",
       "    <tr>\n",
       "      <th>2</th>\n",
       "      <td>USER_0002</td>\n",
       "      <td>74</td>\n",
       "      <td>8</td>\n",
       "      <td>1573.47594</td>\n",
       "    </tr>\n",
       "    <tr>\n",
       "      <th>3</th>\n",
       "      <td>USER_0003</td>\n",
       "      <td>18</td>\n",
       "      <td>11</td>\n",
       "      <td>1421.94528</td>\n",
       "    </tr>\n",
       "    <tr>\n",
       "      <th>4</th>\n",
       "      <td>USER_0004</td>\n",
       "      <td>108</td>\n",
       "      <td>13</td>\n",
       "      <td>1524.42900</td>\n",
       "    </tr>\n",
       "  </tbody>\n",
       "</table>\n",
       "</div>"
      ],
      "text/plain": [
       "  Customer_ID  Recency  Frequency     Monetary\n",
       "0   USER_0000      108          1     99.98174\n",
       "1   USER_0001       60         31  15308.16396\n",
       "2   USER_0002       74          8   1573.47594\n",
       "3   USER_0003       18         11   1421.94528\n",
       "4   USER_0004      108         13   1524.42900"
      ]
     },
     "execution_count": 20,
     "metadata": {},
     "output_type": "execute_result"
    }
   ],
   "source": [
    "# Sum Delivery fee\n",
    "for customer_id, delivery_fee in customer_delivery_fee_sum.items():\n",
    "    rfm_df.loc[rfm_df[\"Customer_ID\"] == customer_id, \"Monetary\"] += delivery_fee\n",
    "rfm_df.head()"
   ]
  },
  {
   "cell_type": "code",
   "execution_count": 21,
   "id": "5bdccf3b",
   "metadata": {
    "execution": {
     "iopub.execute_input": "2024-04-27T12:50:36.066678Z",
     "iopub.status.busy": "2024-04-27T12:50:36.066228Z",
     "iopub.status.idle": "2024-04-27T12:50:36.097009Z",
     "shell.execute_reply": "2024-04-27T12:50:36.095635Z"
    },
    "papermill": {
     "duration": 0.050841,
     "end_time": "2024-04-27T12:50:36.099930",
     "exception": false,
     "start_time": "2024-04-27T12:50:36.049089",
     "status": "completed"
    },
    "tags": []
   },
   "outputs": [],
   "source": [
    "# merge data on \"df\"\n",
    "df = df.merge(rfm_df, on = \"Customer_ID\")"
   ]
  },
  {
   "cell_type": "markdown",
   "id": "70d53fda",
   "metadata": {
    "papermill": {
     "duration": 0.015443,
     "end_time": "2024-04-27T12:50:36.131193",
     "exception": false,
     "start_time": "2024-04-27T12:50:36.115750",
     "status": "completed"
    },
    "tags": []
   },
   "source": [
    "\n",
    "I believe it is appropriate to differentiate the R (Recency) or F (Frequency) metrics by product category. For example, purchasing a laptop every three months might be considered similar in value to purchasing clothing every week.\n",
    "\n",
    "To implement this, I assigned weights based on product categories. The weights were calculated by determining the time difference between the first and second purchase dates for each category, averaged across customers. This average was then added to the transaction date to adjust the Recency metric accordingly.\n"
   ]
  },
  {
   "cell_type": "code",
   "execution_count": 22,
   "id": "76b70cc5",
   "metadata": {
    "execution": {
     "iopub.execute_input": "2024-04-27T12:50:36.164535Z",
     "iopub.status.busy": "2024-04-27T12:50:36.163455Z",
     "iopub.status.idle": "2024-04-27T12:50:36.180604Z",
     "shell.execute_reply": "2024-04-27T12:50:36.179735Z"
    },
    "papermill": {
     "duration": 0.036258,
     "end_time": "2024-04-27T12:50:36.182962",
     "exception": false,
     "start_time": "2024-04-27T12:50:36.146704",
     "status": "completed"
    },
    "tags": []
   },
   "outputs": [
    {
     "data": {
      "text/plain": [
       "Category\n",
       "Apparel                 18126\n",
       "Nest-USA                14013\n",
       "Office                   6513\n",
       "Drinkware                3483\n",
       "Lifestyle                3092\n",
       "Nest                     2198\n",
       "Bags                     1882\n",
       "Headgear                  771\n",
       "Notebooks & Journals      749\n",
       "Waze                      554\n",
       "Name: count, dtype: int64"
      ]
     },
     "execution_count": 22,
     "metadata": {},
     "output_type": "execute_result"
    }
   ],
   "source": [
    "# Proceed only for the top 10 categories.\n",
    "df[\"Category\"].value_counts().head(10)"
   ]
  },
  {
   "cell_type": "code",
   "execution_count": 23,
   "id": "6699f2ed",
   "metadata": {
    "execution": {
     "iopub.execute_input": "2024-04-27T12:50:36.217234Z",
     "iopub.status.busy": "2024-04-27T12:50:36.216785Z",
     "iopub.status.idle": "2024-04-27T12:50:36.245801Z",
     "shell.execute_reply": "2024-04-27T12:50:36.244555Z"
    },
    "papermill": {
     "duration": 0.04964,
     "end_time": "2024-04-27T12:50:36.248386",
     "exception": false,
     "start_time": "2024-04-27T12:50:36.198746",
     "status": "completed"
    },
    "tags": []
   },
   "outputs": [
    {
     "data": {
      "text/html": [
       "<div>\n",
       "<style scoped>\n",
       "    .dataframe tbody tr th:only-of-type {\n",
       "        vertical-align: middle;\n",
       "    }\n",
       "\n",
       "    .dataframe tbody tr th {\n",
       "        vertical-align: top;\n",
       "    }\n",
       "\n",
       "    .dataframe thead th {\n",
       "        text-align: right;\n",
       "    }\n",
       "</style>\n",
       "<table border=\"1\" class=\"dataframe\">\n",
       "  <thead>\n",
       "    <tr style=\"text-align: right;\">\n",
       "      <th></th>\n",
       "      <th>Customer_ID</th>\n",
       "      <th>Transaction_ID</th>\n",
       "      <th>Transaction_date</th>\n",
       "      <th>Product_ID</th>\n",
       "      <th>Category</th>\n",
       "      <th>Qty</th>\n",
       "      <th>Average_price</th>\n",
       "      <th>Delivery_fee</th>\n",
       "      <th>Coupon_status</th>\n",
       "      <th>Month</th>\n",
       "      <th>...</th>\n",
       "      <th>Location</th>\n",
       "      <th>Membership Duration</th>\n",
       "      <th>Coupon_code</th>\n",
       "      <th>Discount(%)</th>\n",
       "      <th>GST</th>\n",
       "      <th>Total</th>\n",
       "      <th>Paid_amount</th>\n",
       "      <th>Recency</th>\n",
       "      <th>Frequency</th>\n",
       "      <th>Monetary</th>\n",
       "    </tr>\n",
       "  </thead>\n",
       "  <tbody>\n",
       "    <tr>\n",
       "      <th>0</th>\n",
       "      <td>USER_1358</td>\n",
       "      <td>Transaction_0000</td>\n",
       "      <td>2019-01-01</td>\n",
       "      <td>Product_0981</td>\n",
       "      <td>Nest-USA</td>\n",
       "      <td>1</td>\n",
       "      <td>153.71</td>\n",
       "      <td>6.5</td>\n",
       "      <td>Used</td>\n",
       "      <td>1</td>\n",
       "      <td>...</td>\n",
       "      <td>Chicago</td>\n",
       "      <td>12</td>\n",
       "      <td>ELEC10</td>\n",
       "      <td>10.0</td>\n",
       "      <td>0.10</td>\n",
       "      <td>153.71</td>\n",
       "      <td>152.1729</td>\n",
       "      <td>340</td>\n",
       "      <td>177</td>\n",
       "      <td>39126.79564</td>\n",
       "    </tr>\n",
       "    <tr>\n",
       "      <th>1</th>\n",
       "      <td>USER_1358</td>\n",
       "      <td>Transaction_0001</td>\n",
       "      <td>2019-01-01</td>\n",
       "      <td>Product_0981</td>\n",
       "      <td>Nest-USA</td>\n",
       "      <td>1</td>\n",
       "      <td>153.71</td>\n",
       "      <td>6.5</td>\n",
       "      <td>Used</td>\n",
       "      <td>1</td>\n",
       "      <td>...</td>\n",
       "      <td>Chicago</td>\n",
       "      <td>12</td>\n",
       "      <td>ELEC10</td>\n",
       "      <td>10.0</td>\n",
       "      <td>0.10</td>\n",
       "      <td>153.71</td>\n",
       "      <td>152.1729</td>\n",
       "      <td>340</td>\n",
       "      <td>177</td>\n",
       "      <td>39126.79564</td>\n",
       "    </tr>\n",
       "    <tr>\n",
       "      <th>2</th>\n",
       "      <td>USER_1358</td>\n",
       "      <td>Transaction_0002</td>\n",
       "      <td>2019-01-01</td>\n",
       "      <td>Product_0904</td>\n",
       "      <td>Office</td>\n",
       "      <td>1</td>\n",
       "      <td>2.05</td>\n",
       "      <td>6.5</td>\n",
       "      <td>Used</td>\n",
       "      <td>1</td>\n",
       "      <td>...</td>\n",
       "      <td>Chicago</td>\n",
       "      <td>12</td>\n",
       "      <td>OFF10</td>\n",
       "      <td>10.0</td>\n",
       "      <td>0.10</td>\n",
       "      <td>2.05</td>\n",
       "      <td>2.0295</td>\n",
       "      <td>340</td>\n",
       "      <td>177</td>\n",
       "      <td>39126.79564</td>\n",
       "    </tr>\n",
       "    <tr>\n",
       "      <th>3</th>\n",
       "      <td>USER_1358</td>\n",
       "      <td>Transaction_0003</td>\n",
       "      <td>2019-01-01</td>\n",
       "      <td>Product_0203</td>\n",
       "      <td>Apparel</td>\n",
       "      <td>5</td>\n",
       "      <td>17.53</td>\n",
       "      <td>6.5</td>\n",
       "      <td>Not Used</td>\n",
       "      <td>1</td>\n",
       "      <td>...</td>\n",
       "      <td>Chicago</td>\n",
       "      <td>12</td>\n",
       "      <td>SALE10</td>\n",
       "      <td>10.0</td>\n",
       "      <td>0.18</td>\n",
       "      <td>87.65</td>\n",
       "      <td>103.4270</td>\n",
       "      <td>340</td>\n",
       "      <td>177</td>\n",
       "      <td>39126.79564</td>\n",
       "    </tr>\n",
       "    <tr>\n",
       "      <th>4</th>\n",
       "      <td>USER_1358</td>\n",
       "      <td>Transaction_0003</td>\n",
       "      <td>2019-01-01</td>\n",
       "      <td>Product_0848</td>\n",
       "      <td>Bags</td>\n",
       "      <td>1</td>\n",
       "      <td>16.50</td>\n",
       "      <td>6.5</td>\n",
       "      <td>Used</td>\n",
       "      <td>1</td>\n",
       "      <td>...</td>\n",
       "      <td>Chicago</td>\n",
       "      <td>12</td>\n",
       "      <td>AIO10</td>\n",
       "      <td>10.0</td>\n",
       "      <td>0.18</td>\n",
       "      <td>16.50</td>\n",
       "      <td>17.5230</td>\n",
       "      <td>340</td>\n",
       "      <td>177</td>\n",
       "      <td>39126.79564</td>\n",
       "    </tr>\n",
       "  </tbody>\n",
       "</table>\n",
       "<p>5 rows × 21 columns</p>\n",
       "</div>"
      ],
      "text/plain": [
       "  Customer_ID    Transaction_ID Transaction_date    Product_ID  Category  Qty  \\\n",
       "0   USER_1358  Transaction_0000       2019-01-01  Product_0981  Nest-USA    1   \n",
       "1   USER_1358  Transaction_0001       2019-01-01  Product_0981  Nest-USA    1   \n",
       "2   USER_1358  Transaction_0002       2019-01-01  Product_0904    Office    1   \n",
       "3   USER_1358  Transaction_0003       2019-01-01  Product_0203   Apparel    5   \n",
       "4   USER_1358  Transaction_0003       2019-01-01  Product_0848      Bags    1   \n",
       "\n",
       "   Average_price  Delivery_fee Coupon_status  Month  ... Location  \\\n",
       "0         153.71           6.5          Used      1  ...  Chicago   \n",
       "1         153.71           6.5          Used      1  ...  Chicago   \n",
       "2           2.05           6.5          Used      1  ...  Chicago   \n",
       "3          17.53           6.5      Not Used      1  ...  Chicago   \n",
       "4          16.50           6.5          Used      1  ...  Chicago   \n",
       "\n",
       "  Membership Duration  Coupon_code Discount(%)   GST   Total  Paid_amount  \\\n",
       "0                  12       ELEC10        10.0  0.10  153.71     152.1729   \n",
       "1                  12       ELEC10        10.0  0.10  153.71     152.1729   \n",
       "2                  12        OFF10        10.0  0.10    2.05       2.0295   \n",
       "3                  12       SALE10        10.0  0.18   87.65     103.4270   \n",
       "4                  12        AIO10        10.0  0.18   16.50      17.5230   \n",
       "\n",
       "   Recency  Frequency     Monetary  \n",
       "0      340        177  39126.79564  \n",
       "1      340        177  39126.79564  \n",
       "2      340        177  39126.79564  \n",
       "3      340        177  39126.79564  \n",
       "4      340        177  39126.79564  \n",
       "\n",
       "[5 rows x 21 columns]"
      ]
     },
     "execution_count": 23,
     "metadata": {},
     "output_type": "execute_result"
    }
   ],
   "source": [
    "df.head()"
   ]
  },
  {
   "cell_type": "code",
   "execution_count": 24,
   "id": "885cdcc1",
   "metadata": {
    "execution": {
     "iopub.execute_input": "2024-04-27T12:50:36.283551Z",
     "iopub.status.busy": "2024-04-27T12:50:36.282412Z",
     "iopub.status.idle": "2024-04-27T12:50:36.998767Z",
     "shell.execute_reply": "2024-04-27T12:50:36.997122Z"
    },
    "papermill": {
     "duration": 0.737018,
     "end_time": "2024-04-27T12:50:37.001868",
     "exception": false,
     "start_time": "2024-04-27T12:50:36.264850",
     "status": "completed"
    },
    "tags": []
   },
   "outputs": [
    {
     "name": "stdout",
     "output_type": "stream",
     "text": [
      "'Waze': 23 days 17:53:41.052631579\n",
      "'Lifestyle': 17 days 17:09:41.488203266\n",
      "'Bags': 18 days 21:28:14.117647058\n",
      "'Headgear': 27 days 04:39:46.285714285\n",
      "'Nest': 4 days 12:37:41.780104712\n",
      "'Nest-USA': 5 days 01:58:11.968225948\n",
      "'Notebooks & Journals': 20 days 21:38:29.826589595\n",
      "'Apparel': 6 days 18:48:44.810765349\n",
      "'Office': 9 days 20:18:35.261958997\n",
      "'Drinkware': 13 days 23:44:10.549450549\n"
     ]
    }
   ],
   "source": [
    "categories = { 'Office','Apparel','Nest-USA','Drinkware','Lifestyle',\n",
    "    'Nest','Bags','Headgear','Notebooks & Journals','Waze'}\n",
    "\n",
    "def calculate_average_difference(df, category):\n",
    "    category_transactions = df[df[\"Category\"] == category]\n",
    "    category_transactions = category_transactions.sort_values(by = [\"Customer_ID\", \"Transaction_date\"])\n",
    "    customer_groups = category_transactions.groupby(\"Customer_ID\")[\"Transaction_date\"]\n",
    "    differences = []\n",
    "    for customer_id, dates in customer_groups:\n",
    "        date_list = dates.tolist()\n",
    "        if len(date_list) >= 2:\n",
    "            difference = date_list[1] - date_list[0]\n",
    "            differences.append(difference)\n",
    "    if differences : \n",
    "        average_difference = sum(differences, pd.Timedelta(0)) / len(differences)\n",
    "        return average_difference\n",
    "    else:\n",
    "        return None\n",
    "for category in categories:\n",
    "    average_difference = calculate_average_difference(df, category)\n",
    "    if average_difference is not None:\n",
    "        print(f\"'{category}':\", average_difference)\n",
    "    else:\n",
    "        print(f\"There is no data of '{category}'\")\n"
   ]
  },
  {
   "cell_type": "code",
   "execution_count": 25,
   "id": "74417f85",
   "metadata": {
    "execution": {
     "iopub.execute_input": "2024-04-27T12:50:37.036715Z",
     "iopub.status.busy": "2024-04-27T12:50:37.035889Z",
     "iopub.status.idle": "2024-04-27T12:50:37.362372Z",
     "shell.execute_reply": "2024-04-27T12:50:37.361058Z"
    },
    "papermill": {
     "duration": 0.347382,
     "end_time": "2024-04-27T12:50:37.365595",
     "exception": false,
     "start_time": "2024-04-27T12:50:37.018213",
     "status": "completed"
    },
    "tags": []
   },
   "outputs": [],
   "source": [
    "# Define the values corresponding to each product category.\n",
    "product_category_values = {'Office': 9,'Apparel': 6,'Nest-USA': 5,\n",
    "    'Drinkware': 13,'Lifestyle': 17,'Nest': 4,'Bags': 18,\n",
    "    'Headgear': 27,'Notebooks & Journals': 20,'Waze': 23}\n",
    "\n",
    "# Add values to the transaction dates for each product category.\n",
    "for category, value in product_category_values.items():\n",
    "    df.loc[df[\"Category\"] == category, \"Transaction_date\"] += pd.Timedelta(days = value)\n",
    "df[\"Transaction_date\"] = pd.to_datetime(df[\"Transaction_date\"])\n",
    "last = df[\"Transaction_date\"].max() + pd.DateOffset(days = 27)\n",
    "a = pd.DataFrame()\n",
    "a = df.groupby([\"Customer_ID\"]).agg({\"Transaction_date\" : lambda x : (last - x.max()).days})\n",
    "a.rename(columns = {\"Transaction_date\" : \"Recency\"}, inplace=True)\n",
    "a.reset_index(inplace=True)\n",
    "df[\"Recency\"] = df[\"Customer_ID\"].map(a.set_index(\"Customer_ID\")[\"Recency\"])"
   ]
  },
  {
   "cell_type": "code",
   "execution_count": 26,
   "id": "606eeba8",
   "metadata": {
    "execution": {
     "iopub.execute_input": "2024-04-27T12:50:37.400546Z",
     "iopub.status.busy": "2024-04-27T12:50:37.400106Z",
     "iopub.status.idle": "2024-04-27T12:50:37.410181Z",
     "shell.execute_reply": "2024-04-27T12:50:37.409200Z"
    },
    "papermill": {
     "duration": 0.0304,
     "end_time": "2024-04-27T12:50:37.412834",
     "exception": false,
     "start_time": "2024-04-27T12:50:37.382434",
     "status": "completed"
    },
    "tags": []
   },
   "outputs": [
    {
     "data": {
      "text/html": [
       "<div>\n",
       "<style scoped>\n",
       "    .dataframe tbody tr th:only-of-type {\n",
       "        vertical-align: middle;\n",
       "    }\n",
       "\n",
       "    .dataframe tbody tr th {\n",
       "        vertical-align: top;\n",
       "    }\n",
       "\n",
       "    .dataframe thead th {\n",
       "        text-align: right;\n",
       "    }\n",
       "</style>\n",
       "<table border=\"1\" class=\"dataframe\">\n",
       "  <thead>\n",
       "    <tr style=\"text-align: right;\">\n",
       "      <th></th>\n",
       "      <th>Customer_ID</th>\n",
       "      <th>Recency</th>\n",
       "    </tr>\n",
       "  </thead>\n",
       "  <tbody>\n",
       "    <tr>\n",
       "      <th>0</th>\n",
       "      <td>USER_0000</td>\n",
       "      <td>152</td>\n",
       "    </tr>\n",
       "    <tr>\n",
       "      <th>1</th>\n",
       "      <td>USER_0001</td>\n",
       "      <td>97</td>\n",
       "    </tr>\n",
       "    <tr>\n",
       "      <th>2</th>\n",
       "      <td>USER_0002</td>\n",
       "      <td>109</td>\n",
       "    </tr>\n",
       "    <tr>\n",
       "      <th>3</th>\n",
       "      <td>USER_0003</td>\n",
       "      <td>44</td>\n",
       "    </tr>\n",
       "    <tr>\n",
       "      <th>4</th>\n",
       "      <td>USER_0004</td>\n",
       "      <td>143</td>\n",
       "    </tr>\n",
       "  </tbody>\n",
       "</table>\n",
       "</div>"
      ],
      "text/plain": [
       "  Customer_ID  Recency\n",
       "0   USER_0000      152\n",
       "1   USER_0001       97\n",
       "2   USER_0002      109\n",
       "3   USER_0003       44\n",
       "4   USER_0004      143"
      ]
     },
     "execution_count": 26,
     "metadata": {},
     "output_type": "execute_result"
    }
   ],
   "source": [
    "a.head()"
   ]
  },
  {
   "cell_type": "markdown",
   "id": "a0c1acdf",
   "metadata": {
    "papermill": {
     "duration": 0.016396,
     "end_time": "2024-04-27T12:50:37.446265",
     "exception": false,
     "start_time": "2024-04-27T12:50:37.429869",
     "status": "completed"
    },
    "tags": []
   },
   "source": [
    "**Segment R (Recency), F (Frequency), M (Monetary)**\n",
    "1) Recency"
   ]
  },
  {
   "cell_type": "code",
   "execution_count": 27,
   "id": "66bf26d8",
   "metadata": {
    "execution": {
     "iopub.execute_input": "2024-04-27T12:50:37.481765Z",
     "iopub.status.busy": "2024-04-27T12:50:37.481081Z",
     "iopub.status.idle": "2024-04-27T12:50:37.891780Z",
     "shell.execute_reply": "2024-04-27T12:50:37.890495Z"
    },
    "papermill": {
     "duration": 0.431896,
     "end_time": "2024-04-27T12:50:37.894934",
     "exception": false,
     "start_time": "2024-04-27T12:50:37.463038",
     "status": "completed"
    },
    "tags": []
   },
   "outputs": [
    {
     "data": {
      "image/png": "[encoded data removed]",
      "text/plain": [
       "<Figure size 1000x600 with 1 Axes>"
      ]
     },
     "metadata": {},
     "output_type": "display_data"
    }
   ],
   "source": [
    "# Visualize the distribution of Recency for all customers.\n",
    "plt.figure(figsize=(10, 6))\n",
    "plt.hist(df['Recency'], bins=40, color='skyblue', edgecolor='black')\n",
    "plt.title('Distribution of Recency')\n",
    "plt.xlabel('Recency')\n",
    "plt.ylabel('Frequency')\n",
    "plt.grid(True)\n",
    "plt.show()"
   ]
  },
  {
   "cell_type": "code",
   "execution_count": 28,
   "id": "04bb7ced",
   "metadata": {
    "execution": {
     "iopub.execute_input": "2024-04-27T12:50:37.933124Z",
     "iopub.status.busy": "2024-04-27T12:50:37.932660Z",
     "iopub.status.idle": "2024-04-27T12:50:37.939698Z",
     "shell.execute_reply": "2024-04-27T12:50:37.938475Z"
    },
    "papermill": {
     "duration": 0.028568,
     "end_time": "2024-04-27T12:50:37.942215",
     "exception": false,
     "start_time": "2024-04-27T12:50:37.913647",
     "status": "completed"
    },
    "tags": []
   },
   "outputs": [
    {
     "name": "stdout",
     "output_type": "stream",
     "text": [
      "27\n",
      "411\n"
     ]
    }
   ],
   "source": [
    "print(df[\"Recency\"].min())\n",
    "print(df[\"Recency\"].max())"
   ]
  },
  {
   "cell_type": "markdown",
   "id": "ea9cbe8f",
   "metadata": {
    "papermill": {
     "duration": 0.016765,
     "end_time": "2024-04-27T12:50:37.976219",
     "exception": false,
     "start_time": "2024-04-27T12:50:37.959454",
     "status": "completed"
    },
    "tags": []
   },
   "source": [
    "The Recency of all customers ranges from 27 to 411, and it displays the distribution mentioned above."
   ]
  }
 ],
 "metadata": {
  "kaggle": {
   "accelerator": "none",
   "dataSources": [
    {
     "datasetId": 4883793,
     "sourceId": 8234443,
     "sourceType": "datasetVersion"
    }
   ],
   "dockerImageVersionId": 30698,
   "isGpuEnabled": false,
   "isInternetEnabled": true,
   "language": "python",
   "sourceType": "notebook"
  },
  "kernelspec": {
   "display_name": "Python 3",
   "language": "python",
   "name": "python3"
  },
  "language_info": {
   "codemirror_mode": {
    "name": "ipython",
    "version": 3
   },
   "file_extension": ".py",
   "mimetype": "text/x-python",
   "name": "python",
   "nbconvert_exporter": "python",
   "pygments_lexer": "ipython3",
   "version": "3.10.13"
  },
  "papermill": {
   "default_parameters": {},
   "duration": 15.174932,
   "end_time": "2024-04-27T12:50:38.717801",
   "environment_variables": {},
   "exception": null,
   "input_path": "__notebook__.ipynb",
   "output_path": "__notebook__.ipynb",
   "parameters": {},
   "start_time": "2024-04-27T12:50:23.542869",
   "version": "2.5.0"
  }
 },
 "nbformat": 4,
 "nbformat_minor": 5
}
